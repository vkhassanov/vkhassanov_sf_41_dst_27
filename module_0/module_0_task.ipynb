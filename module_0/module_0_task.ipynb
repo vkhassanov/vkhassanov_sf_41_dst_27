{
 "cells": [
  {
   "cell_type": "markdown",
   "metadata": {},
   "source": [
    "# Guess random number"
   ]
  },
  {
   "cell_type": "code",
   "execution_count": 209,
   "metadata": {},
   "outputs": [
    {
     "name": "stdout",
     "output_type": "stream",
     "text": [
      "Загадано число от 1 до 100\n"
     ]
    }
   ],
   "source": [
    "import numpy as np\n",
    "\n",
    "rand_min = 1                         # минимальное значение интервала чисел\n",
    "rand_max = 100                       # макстимальное значение интервала чисел\n",
    "number = np.random.randint(rand_min,rand_max)    # загадали число\n",
    "\n",
    "print (\"Загадано число от\", rand_min, \"до\", rand_max)"
   ]
  },
  {
   "cell_type": "code",
   "execution_count": 210,
   "metadata": {},
   "outputs": [],
   "source": [
    "def score_game(game_core):\n",
    "    '''Запускаем игру 1000 раз, чтобы узнать, как быстро игра угадывает число'''\n",
    "    count_ls = []\n",
    "    np.random.seed(1)  # фиксируем RANDOM SEED, чтобы ваш эксперимент был воспроизводим!\n",
    "    random_array = np.random.randint(1,101, size=(1000))\n",
    "    for number in random_array:\n",
    "        count_ls.append(game_core(number))\n",
    "    score = int(np.mean(count_ls))\n",
    "    print(f\"Ваш алгоритм угадывает число в среднем за {score} попыток\")\n",
    "    return(score)"
   ]
  },
  {
   "cell_type": "markdown",
   "metadata": {},
   "source": [
    "### version 3 - binary search"
   ]
  },
  {
   "cell_type": "code",
   "execution_count": 213,
   "metadata": {},
   "outputs": [],
   "source": [
    "def game_core_v3(number):\n",
    "    '''На каждой итерации проверяем, больше загаданное число середины интервала или меньше.\n",
    "       Если число больше, сдвигаем нижнюю границу интервала выше середины, если меньше, свдигаем верхнюю границу ниже середины.\n",
    "       Повторяем поиск до тех пор, пока загаданное число не окажется равным значению середины интервала.\n",
    "       Функция принимает загаданное число и возвращает число попыток'''\n",
    "\n",
    "    count = 0                     # счетчик попыток\n",
    "    \n",
    "    interval_start = rand_min     # инициализируем границы исходного интервала\n",
    "    interval_end = rand_max\n",
    "    item_mid = rand_max//2        # определяем середину исходного интервала\n",
    "\n",
    "    while item_mid!=number:\n",
    "        count += 1\n",
    "        if number > item_mid:\n",
    "            interval_start = item_mid + 1\n",
    "        else:\n",
    "            interval_end = item_mid - 1\n",
    "\n",
    "        item_mid = (interval_end + interval_start)//2 \n",
    "\n",
    "    return(count) # возрат значения счетчика попыток"
   ]
  },
  {
   "cell_type": "code",
   "execution_count": 214,
   "metadata": {},
   "outputs": [
    {
     "name": "stdout",
     "output_type": "stream",
     "text": [
      "Ваш алгоритм угадывает число в среднем за 4 попыток\n"
     ]
    },
    {
     "data": {
      "text/plain": [
       "4"
      ]
     },
     "execution_count": 214,
     "metadata": {},
     "output_type": "execute_result"
    }
   ],
   "source": [
    "score_game(game_core_v3)"
   ]
  }
 ],
 "metadata": {
  "kernelspec": {
   "display_name": "Python 3",
   "language": "python",
   "name": "python3"
  },
  "language_info": {
   "codemirror_mode": {
    "name": "ipython",
    "version": 3
   },
   "file_extension": ".py",
   "mimetype": "text/x-python",
   "name": "python",
   "nbconvert_exporter": "python",
   "pygments_lexer": "ipython3",
   "version": "3.7.6"
  }
 },
 "nbformat": 4,
 "nbformat_minor": 4
}
